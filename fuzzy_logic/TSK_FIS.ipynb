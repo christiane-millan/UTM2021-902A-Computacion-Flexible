{
 "cells": [
  {
   "cell_type": "code",
   "execution_count": 4,
   "metadata": {},
   "outputs": [],
   "source": [
    "import fuzzylite as fl"
   ]
  },
  {
   "cell_type": "code",
   "execution_count": 5,
   "metadata": {},
   "outputs": [],
   "source": [
    "# Declaración e inicialización del sistema difuso\n",
    "engine = fl.Engine(name=\"SimpleDimmer\",\n",
    "description=\"Simple Dimmer Fuzzy System which dims light based upon Light Conditions\")"
   ]
  },
  {
   "cell_type": "code",
   "execution_count": 6,
   "metadata": {},
   "outputs": [],
   "source": [
    "# Definición de las variables de entrada (Fuzzyficación)\n",
    "engine.input_variables = [\n",
    "    fl.InputVariable ( name=\"Ambiente\",\n",
    "    description=\"\",\n",
    "    enabled=True,\n",
    "    minimum=0.000,\n",
    "    maximum=1.000,\n",
    "    lock_range=False,\n",
    "    terms=[\n",
    "        fl.Triangle(\"DARK\", 0.000, 0.250, 0.500),\n",
    "        fl.Triangle(\"MEDIUM\", 0.250, 0.500, 0.750),\n",
    "        fl.Triangle(\"BRIGHT\", 0.500, 0.750, 10.00)\n",
    "    ]\n",
    "    )\n",
    "]"
   ]
  },
  {
   "cell_type": "code",
   "execution_count": 11,
   "metadata": {},
   "outputs": [],
   "source": [
    "# Definición de las variables de salida (DEfuzzyficación)\n",
    "engine.output_variables = [\n",
    "    fl.OutputVariable(\n",
    "        name=\"Electricidad\",\n",
    "        description=\"\",\n",
    "        enabled=True,\n",
    "        minimum=0.000,\n",
    "        maximum=1.000,\n",
    "        lock_range=False,\n",
    "        aggregation=fl.Maximum(),\n",
    "        defuzzifier=fl.Centroid(200),\n",
    "        lock_previous=False,\n",
    "        terms=[\n",
    "            fl.Triangle(\"LOW\", 0.000, 0.250, 0.500),\n",
    "            fl.Triangle(\"MEDIUM\", 0.250, 0.500, 0.750),\n",
    "            fl.Triangle(\"HIGH\", 0.500, 0.750, 1.000)\n",
    "        ]\n",
    "    )\n",
    "]"
   ]
  },
  {
   "cell_type": "code",
   "execution_count": 12,
   "metadata": {},
   "outputs": [],
   "source": [
    "# Creación de las reglas difusas\n",
    "engine.rule_blocks = [\n",
    "    fl.RuleBlock(\n",
    "    name=\"\",\n",
    "    description=\"\",\n",
    "    enabled=True,\n",
    "    conjunction=None,\n",
    "    disjunction=None,\n",
    "    implication=fl.Minimum(),\n",
    "    activation=fl.General(),\n",
    "    rules=[\n",
    "    fl.Rule.create(\"if Ambiente is DARK then Electricidad is HIGH\",engine),\n",
    "    fl.Rule.create(\"if Ambiente is MEDIUM then Electricidad is MEDIUM\", engine),\n",
    "    fl.Rule.create(\"if Ambiente is BRIGHT then Electricidad is LOW\",engine)\n",
    "]\n",
    ")\n",
    "]"
   ]
  }
 ],
 "metadata": {
  "interpreter": {
   "hash": "c69618c2a48e954f8f3a41ba33a313524e6b8beff9a4b660a8b93183de59d343"
  },
  "kernelspec": {
   "display_name": "Python 3.8.12 64-bit ('py38': conda)",
   "language": "python",
   "name": "python3"
  },
  "language_info": {
   "codemirror_mode": {
    "name": "ipython",
    "version": 3
   },
   "file_extension": ".py",
   "mimetype": "text/x-python",
   "name": "python",
   "nbconvert_exporter": "python",
   "pygments_lexer": "ipython3",
   "version": "3.8.12"
  },
  "orig_nbformat": 4
 },
 "nbformat": 4,
 "nbformat_minor": 2
}
